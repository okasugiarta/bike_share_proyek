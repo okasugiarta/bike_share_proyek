{
  "cells": [
    {
      "cell_type": "markdown",
      "metadata": {
        "id": "cP5zh7Ww85Fm"
      },
      "source": [
        "# **Proyek Analisis Data: Bike Sharing Dataset**\n",
        "- Nama: I Gusti Putu Oka Sugiarta\n",
        "- Email: okasugi09@gmail.com\n",
        "- Id Dicoding: oka_sugiarta"
      ]
    },
    {
      "cell_type": "markdown",
      "metadata": {
        "id": "ggwOFmpI88dG"
      },
      "source": [
        "## **Menentukan Pertanyaan Bisnis**"
      ]
    },
    {
      "cell_type": "markdown",
      "metadata": {
        "id": "6irqmTtg8-IC"
      },
      "source": [
        "- Apakah ada hubungan antara cuaca terhadap jumlah permintaan ?\n",
        "- Bagaimana tren penggunaan sepeda di tahun 2011 dan 2012?\n",
        "- Apakah ada pengaruh musim terhadap penyewa sepeda berdasarkan pelanggan Casual dan Registered?"
      ]
    },
    {
      "cell_type": "markdown",
      "metadata": {
        "id": "EueHsNk89AsY"
      },
      "source": [
        "## **Menyiapkan semua library yang dibutuhkan**"
      ]
    },
    {
      "cell_type": "markdown",
      "metadata": {
        "id": "s3ZACUZHhx_2"
      },
      "source": [
        "Sebelum memulai proyek, pastikan kita telah mengimport semua library yang kita butuhkan untuk mengerjakan proyeknya."
      ]
    },
    {
      "cell_type": "code",
      "execution_count": 1,
      "metadata": {
        "id": "4cmWv4qc8xWu"
      },
      "outputs": [],
      "source": [
        "import numpy as np\n",
        "import pandas as pd\n",
        "import matplotlib.pyplot as plt\n",
        "import seaborn as sns\n",
        "from datetime import datetime"
      ]
    },
    {
      "cell_type": "markdown",
      "metadata": {
        "id": "7DwSpkkZ9BqV"
      },
      "source": [
        "## **Data Wrangling**"
      ]
    },
    {
      "cell_type": "markdown",
      "metadata": {
        "id": "ZuJuLGxe9D9O"
      },
      "source": [
        "### **Gathering Data**"
      ]
    },
    {
      "cell_type": "markdown",
      "metadata": {
        "id": "BsgkgIxEiMkt"
      },
      "source": [
        "Pada tahap ini kita akan mengumpulkan data yang telah kita kumpulkan. Karena saya memilih **Bike Sharing Dataset**, maka saya mengimpor file **day.csv** dan **hour.csv**"
      ]
    },
    {
      "cell_type": "markdown",
      "metadata": {
        "id": "muVsNbDsjdyz"
      },
      "source": [
        "### **Load tabel day**"
      ]
    },
    {
      "cell_type": "code",
      "execution_count": 2,
      "metadata": {
        "colab": {
          "base_uri": "https://localhost:8080/",
          "height": 206
        },
        "id": "Rg3wtvOr9DUm",
        "outputId": "807fd77f-b889-44ef-89a6-5b30dc2f3a63"
      },
      "outputs": [
        {
          "data": {
            "text/html": [
              "<div>\n",
              "<style scoped>\n",
              "    .dataframe tbody tr th:only-of-type {\n",
              "        vertical-align: middle;\n",
              "    }\n",
              "\n",
              "    .dataframe tbody tr th {\n",
              "        vertical-align: top;\n",
              "    }\n",
              "\n",
              "    .dataframe thead th {\n",
              "        text-align: right;\n",
              "    }\n",
              "</style>\n",
              "<table border=\"1\" class=\"dataframe\">\n",
              "  <thead>\n",
              "    <tr style=\"text-align: right;\">\n",
              "      <th></th>\n",
              "      <th>instant</th>\n",
              "      <th>dteday</th>\n",
              "      <th>season</th>\n",
              "      <th>yr</th>\n",
              "      <th>mnth</th>\n",
              "      <th>holiday</th>\n",
              "      <th>weekday</th>\n",
              "      <th>workingday</th>\n",
              "      <th>weathersit</th>\n",
              "      <th>temp</th>\n",
              "      <th>atemp</th>\n",
              "      <th>hum</th>\n",
              "      <th>windspeed</th>\n",
              "      <th>casual</th>\n",
              "      <th>registered</th>\n",
              "      <th>cnt</th>\n",
              "    </tr>\n",
              "  </thead>\n",
              "  <tbody>\n",
              "    <tr>\n",
              "      <th>0</th>\n",
              "      <td>1</td>\n",
              "      <td>2011-01-01</td>\n",
              "      <td>1</td>\n",
              "      <td>0</td>\n",
              "      <td>1</td>\n",
              "      <td>0</td>\n",
              "      <td>6</td>\n",
              "      <td>0</td>\n",
              "      <td>2</td>\n",
              "      <td>0.344167</td>\n",
              "      <td>0.363625</td>\n",
              "      <td>0.805833</td>\n",
              "      <td>0.160446</td>\n",
              "      <td>331</td>\n",
              "      <td>654</td>\n",
              "      <td>985</td>\n",
              "    </tr>\n",
              "    <tr>\n",
              "      <th>1</th>\n",
              "      <td>2</td>\n",
              "      <td>2011-01-02</td>\n",
              "      <td>1</td>\n",
              "      <td>0</td>\n",
              "      <td>1</td>\n",
              "      <td>0</td>\n",
              "      <td>0</td>\n",
              "      <td>0</td>\n",
              "      <td>2</td>\n",
              "      <td>0.363478</td>\n",
              "      <td>0.353739</td>\n",
              "      <td>0.696087</td>\n",
              "      <td>0.248539</td>\n",
              "      <td>131</td>\n",
              "      <td>670</td>\n",
              "      <td>801</td>\n",
              "    </tr>\n",
              "    <tr>\n",
              "      <th>2</th>\n",
              "      <td>3</td>\n",
              "      <td>2011-01-03</td>\n",
              "      <td>1</td>\n",
              "      <td>0</td>\n",
              "      <td>1</td>\n",
              "      <td>0</td>\n",
              "      <td>1</td>\n",
              "      <td>1</td>\n",
              "      <td>1</td>\n",
              "      <td>0.196364</td>\n",
              "      <td>0.189405</td>\n",
              "      <td>0.437273</td>\n",
              "      <td>0.248309</td>\n",
              "      <td>120</td>\n",
              "      <td>1229</td>\n",
              "      <td>1349</td>\n",
              "    </tr>\n",
              "    <tr>\n",
              "      <th>3</th>\n",
              "      <td>4</td>\n",
              "      <td>2011-01-04</td>\n",
              "      <td>1</td>\n",
              "      <td>0</td>\n",
              "      <td>1</td>\n",
              "      <td>0</td>\n",
              "      <td>2</td>\n",
              "      <td>1</td>\n",
              "      <td>1</td>\n",
              "      <td>0.200000</td>\n",
              "      <td>0.212122</td>\n",
              "      <td>0.590435</td>\n",
              "      <td>0.160296</td>\n",
              "      <td>108</td>\n",
              "      <td>1454</td>\n",
              "      <td>1562</td>\n",
              "    </tr>\n",
              "    <tr>\n",
              "      <th>4</th>\n",
              "      <td>5</td>\n",
              "      <td>2011-01-05</td>\n",
              "      <td>1</td>\n",
              "      <td>0</td>\n",
              "      <td>1</td>\n",
              "      <td>0</td>\n",
              "      <td>3</td>\n",
              "      <td>1</td>\n",
              "      <td>1</td>\n",
              "      <td>0.226957</td>\n",
              "      <td>0.229270</td>\n",
              "      <td>0.436957</td>\n",
              "      <td>0.186900</td>\n",
              "      <td>82</td>\n",
              "      <td>1518</td>\n",
              "      <td>1600</td>\n",
              "    </tr>\n",
              "  </tbody>\n",
              "</table>\n",
              "</div>"
            ],
            "text/plain": [
              "   instant      dteday  season  yr  mnth  holiday  weekday  workingday  \\\n",
              "0        1  2011-01-01       1   0     1        0        6           0   \n",
              "1        2  2011-01-02       1   0     1        0        0           0   \n",
              "2        3  2011-01-03       1   0     1        0        1           1   \n",
              "3        4  2011-01-04       1   0     1        0        2           1   \n",
              "4        5  2011-01-05       1   0     1        0        3           1   \n",
              "\n",
              "   weathersit      temp     atemp       hum  windspeed  casual  registered  \\\n",
              "0           2  0.344167  0.363625  0.805833   0.160446     331         654   \n",
              "1           2  0.363478  0.353739  0.696087   0.248539     131         670   \n",
              "2           1  0.196364  0.189405  0.437273   0.248309     120        1229   \n",
              "3           1  0.200000  0.212122  0.590435   0.160296     108        1454   \n",
              "4           1  0.226957  0.229270  0.436957   0.186900      82        1518   \n",
              "\n",
              "    cnt  \n",
              "0   985  \n",
              "1   801  \n",
              "2  1349  \n",
              "3  1562  \n",
              "4  1600  "
            ]
          },
          "execution_count": 2,
          "metadata": {},
          "output_type": "execute_result"
        }
      ],
      "source": [
        "day_rent_df = pd.read_csv(\"https://raw.githubusercontent.com/okasugiarta/bike_share_proyek/main/dashboard/day.csv\")\n",
        "day_rent_df.head()"
      ]
    },
    {
      "cell_type": "markdown",
      "metadata": {
        "id": "iKit5fiCjiPQ"
      },
      "source": [
        "### **Load tabel hr**"
      ]
    },
    {
      "cell_type": "code",
      "execution_count": 3,
      "metadata": {
        "colab": {
          "base_uri": "https://localhost:8080/",
          "height": 206
        },
        "id": "KPPxJOvOilAq",
        "outputId": "c70d7eca-62cd-4a7a-c6c1-4456948ba3e4"
      },
      "outputs": [
        {
          "data": {
            "text/html": [
              "<div>\n",
              "<style scoped>\n",
              "    .dataframe tbody tr th:only-of-type {\n",
              "        vertical-align: middle;\n",
              "    }\n",
              "\n",
              "    .dataframe tbody tr th {\n",
              "        vertical-align: top;\n",
              "    }\n",
              "\n",
              "    .dataframe thead th {\n",
              "        text-align: right;\n",
              "    }\n",
              "</style>\n",
              "<table border=\"1\" class=\"dataframe\">\n",
              "  <thead>\n",
              "    <tr style=\"text-align: right;\">\n",
              "      <th></th>\n",
              "      <th>instant</th>\n",
              "      <th>dteday</th>\n",
              "      <th>season</th>\n",
              "      <th>yr</th>\n",
              "      <th>mnth</th>\n",
              "      <th>hr</th>\n",
              "      <th>holiday</th>\n",
              "      <th>weekday</th>\n",
              "      <th>workingday</th>\n",
              "      <th>weathersit</th>\n",
              "      <th>temp</th>\n",
              "      <th>atemp</th>\n",
              "      <th>hum</th>\n",
              "      <th>windspeed</th>\n",
              "      <th>casual</th>\n",
              "      <th>registered</th>\n",
              "      <th>cnt</th>\n",
              "    </tr>\n",
              "  </thead>\n",
              "  <tbody>\n",
              "    <tr>\n",
              "      <th>0</th>\n",
              "      <td>1</td>\n",
              "      <td>2011-01-01</td>\n",
              "      <td>1</td>\n",
              "      <td>0</td>\n",
              "      <td>1</td>\n",
              "      <td>0</td>\n",
              "      <td>0</td>\n",
              "      <td>6</td>\n",
              "      <td>0</td>\n",
              "      <td>1</td>\n",
              "      <td>0.24</td>\n",
              "      <td>0.2879</td>\n",
              "      <td>0.81</td>\n",
              "      <td>0.0</td>\n",
              "      <td>3</td>\n",
              "      <td>13</td>\n",
              "      <td>16</td>\n",
              "    </tr>\n",
              "    <tr>\n",
              "      <th>1</th>\n",
              "      <td>2</td>\n",
              "      <td>2011-01-01</td>\n",
              "      <td>1</td>\n",
              "      <td>0</td>\n",
              "      <td>1</td>\n",
              "      <td>1</td>\n",
              "      <td>0</td>\n",
              "      <td>6</td>\n",
              "      <td>0</td>\n",
              "      <td>1</td>\n",
              "      <td>0.22</td>\n",
              "      <td>0.2727</td>\n",
              "      <td>0.80</td>\n",
              "      <td>0.0</td>\n",
              "      <td>8</td>\n",
              "      <td>32</td>\n",
              "      <td>40</td>\n",
              "    </tr>\n",
              "    <tr>\n",
              "      <th>2</th>\n",
              "      <td>3</td>\n",
              "      <td>2011-01-01</td>\n",
              "      <td>1</td>\n",
              "      <td>0</td>\n",
              "      <td>1</td>\n",
              "      <td>2</td>\n",
              "      <td>0</td>\n",
              "      <td>6</td>\n",
              "      <td>0</td>\n",
              "      <td>1</td>\n",
              "      <td>0.22</td>\n",
              "      <td>0.2727</td>\n",
              "      <td>0.80</td>\n",
              "      <td>0.0</td>\n",
              "      <td>5</td>\n",
              "      <td>27</td>\n",
              "      <td>32</td>\n",
              "    </tr>\n",
              "    <tr>\n",
              "      <th>3</th>\n",
              "      <td>4</td>\n",
              "      <td>2011-01-01</td>\n",
              "      <td>1</td>\n",
              "      <td>0</td>\n",
              "      <td>1</td>\n",
              "      <td>3</td>\n",
              "      <td>0</td>\n",
              "      <td>6</td>\n",
              "      <td>0</td>\n",
              "      <td>1</td>\n",
              "      <td>0.24</td>\n",
              "      <td>0.2879</td>\n",
              "      <td>0.75</td>\n",
              "      <td>0.0</td>\n",
              "      <td>3</td>\n",
              "      <td>10</td>\n",
              "      <td>13</td>\n",
              "    </tr>\n",
              "    <tr>\n",
              "      <th>4</th>\n",
              "      <td>5</td>\n",
              "      <td>2011-01-01</td>\n",
              "      <td>1</td>\n",
              "      <td>0</td>\n",
              "      <td>1</td>\n",
              "      <td>4</td>\n",
              "      <td>0</td>\n",
              "      <td>6</td>\n",
              "      <td>0</td>\n",
              "      <td>1</td>\n",
              "      <td>0.24</td>\n",
              "      <td>0.2879</td>\n",
              "      <td>0.75</td>\n",
              "      <td>0.0</td>\n",
              "      <td>0</td>\n",
              "      <td>1</td>\n",
              "      <td>1</td>\n",
              "    </tr>\n",
              "  </tbody>\n",
              "</table>\n",
              "</div>"
            ],
            "text/plain": [
              "   instant      dteday  season  yr  mnth  hr  holiday  weekday  workingday  \\\n",
              "0        1  2011-01-01       1   0     1   0        0        6           0   \n",
              "1        2  2011-01-01       1   0     1   1        0        6           0   \n",
              "2        3  2011-01-01       1   0     1   2        0        6           0   \n",
              "3        4  2011-01-01       1   0     1   3        0        6           0   \n",
              "4        5  2011-01-01       1   0     1   4        0        6           0   \n",
              "\n",
              "   weathersit  temp   atemp   hum  windspeed  casual  registered  cnt  \n",
              "0           1  0.24  0.2879  0.81        0.0       3          13   16  \n",
              "1           1  0.22  0.2727  0.80        0.0       8          32   40  \n",
              "2           1  0.22  0.2727  0.80        0.0       5          27   32  \n",
              "3           1  0.24  0.2879  0.75        0.0       3          10   13  \n",
              "4           1  0.24  0.2879  0.75        0.0       0           1    1  "
            ]
          },
          "execution_count": 3,
          "metadata": {},
          "output_type": "execute_result"
        }
      ],
      "source": [
        "hour_rent_df = pd.read_csv(\"https://raw.githubusercontent.com/okasugiarta/bike_share_proyek/main/data/hour.csv\")\n",
        "hour_rent_df.head()"
      ]
    },
    {
      "cell_type": "markdown",
      "metadata": {
        "id": "BvZAfrSH9F2U"
      },
      "source": [
        "### Assessing Data"
      ]
    },
    {
      "cell_type": "markdown",
      "metadata": {
        "id": "ctCvHaW9jn7t"
      },
      "source": [
        "### **Menilai day_df**"
      ]
    },
    {
      "cell_type": "markdown",
      "metadata": {
        "id": "vPss7RTjpHCn"
      },
      "source": [
        "Pertama kita mengecek tipe data day_df"
      ]
    },
    {
      "cell_type": "code",
      "execution_count": 4,
      "metadata": {
        "colab": {
          "base_uri": "https://localhost:8080/"
        },
        "id": "fx7PaLsV9G8M",
        "outputId": "9b44562e-d81c-4e24-9a21-63db71dcbbd3"
      },
      "outputs": [
        {
          "name": "stdout",
          "output_type": "stream",
          "text": [
            "<class 'pandas.core.frame.DataFrame'>\n",
            "RangeIndex: 731 entries, 0 to 730\n",
            "Data columns (total 16 columns):\n",
            " #   Column      Non-Null Count  Dtype  \n",
            "---  ------      --------------  -----  \n",
            " 0   instant     731 non-null    int64  \n",
            " 1   dteday      731 non-null    object \n",
            " 2   season      731 non-null    int64  \n",
            " 3   yr          731 non-null    int64  \n",
            " 4   mnth        731 non-null    int64  \n",
            " 5   holiday     731 non-null    int64  \n",
            " 6   weekday     731 non-null    int64  \n",
            " 7   workingday  731 non-null    int64  \n",
            " 8   weathersit  731 non-null    int64  \n",
            " 9   temp        731 non-null    float64\n",
            " 10  atemp       731 non-null    float64\n",
            " 11  hum         731 non-null    float64\n",
            " 12  windspeed   731 non-null    float64\n",
            " 13  casual      731 non-null    int64  \n",
            " 14  registered  731 non-null    int64  \n",
            " 15  cnt         731 non-null    int64  \n",
            "dtypes: float64(4), int64(11), object(1)\n",
            "memory usage: 91.5+ KB\n"
          ]
        }
      ],
      "source": [
        "day_rent_df.info()"
      ]
    },
    {
      "cell_type": "markdown",
      "metadata": {
        "id": "aehGEBWCkA2U"
      },
      "source": [
        "Dapat kita lihat diatas, terdapat 1 tipe data berdasarkan kolomnya yang tidak sesuai. Data yang perlu diperbaiki adalah: dteday -> datetime"
      ]
    },
    {
      "cell_type": "markdown",
      "metadata": {
        "id": "bAqLYE6apJuU"
      },
      "source": [
        "Kedua kita mengecek apakah terdapat missing value"
      ]
    },
    {
      "cell_type": "code",
      "execution_count": 5,
      "metadata": {
        "colab": {
          "base_uri": "https://localhost:8080/"
        },
        "id": "yAuILIlYpNob",
        "outputId": "2d90ad5c-3d6c-4637-dfd2-51e69eba8dee"
      },
      "outputs": [
        {
          "data": {
            "text/plain": [
              "instant       0\n",
              "dteday        0\n",
              "season        0\n",
              "yr            0\n",
              "mnth          0\n",
              "holiday       0\n",
              "weekday       0\n",
              "workingday    0\n",
              "weathersit    0\n",
              "temp          0\n",
              "atemp         0\n",
              "hum           0\n",
              "windspeed     0\n",
              "casual        0\n",
              "registered    0\n",
              "cnt           0\n",
              "dtype: int64"
            ]
          },
          "execution_count": 5,
          "metadata": {},
          "output_type": "execute_result"
        }
      ],
      "source": [
        "day_rent_df.isna().sum()"
      ]
    },
    {
      "cell_type": "markdown",
      "metadata": {
        "id": "7DBZ61QHphyj"
      },
      "source": [
        "Dapat kita simpulkan bahwa tabel day_df tidak ada missing values, berarti aman."
      ]
    },
    {
      "cell_type": "markdown",
      "metadata": {
        "id": "3DNowUifptLY"
      },
      "source": [
        "Selanjutnya kita mengecek apakah terdapat duplicate data"
      ]
    },
    {
      "cell_type": "code",
      "execution_count": 6,
      "metadata": {
        "colab": {
          "base_uri": "https://localhost:8080/"
        },
        "id": "fXnuxiD5pA8L",
        "outputId": "4b21a63e-2a6a-4a15-df8a-15c2c4294439"
      },
      "outputs": [
        {
          "name": "stdout",
          "output_type": "stream",
          "text": [
            "Jumlah duplikasi data:  0\n"
          ]
        }
      ],
      "source": [
        "print(\"Jumlah duplikasi data: \", day_rent_df.duplicated().sum())"
      ]
    },
    {
      "cell_type": "markdown",
      "metadata": {
        "id": "ltdz1GLdp_1c"
      },
      "source": [
        "Pada tabel day_df tidak terdapat duplicate data, artinya semua data bersifat unik."
      ]
    },
    {
      "cell_type": "markdown",
      "metadata": {
        "id": "qfYOgQSqqZIv"
      },
      "source": [
        "Selanjutnya kita mengecek apakah terdapat keanehan pada nilai statistiknya"
      ]
    },
    {
      "cell_type": "code",
      "execution_count": 7,
      "metadata": {
        "colab": {
          "base_uri": "https://localhost:8080/",
          "height": 320
        },
        "id": "-O50DO_aqgKP",
        "outputId": "5314537d-ea47-4c28-a372-2bd46f88bc7c"
      },
      "outputs": [
        {
          "data": {
            "text/html": [
              "<div>\n",
              "<style scoped>\n",
              "    .dataframe tbody tr th:only-of-type {\n",
              "        vertical-align: middle;\n",
              "    }\n",
              "\n",
              "    .dataframe tbody tr th {\n",
              "        vertical-align: top;\n",
              "    }\n",
              "\n",
              "    .dataframe thead th {\n",
              "        text-align: right;\n",
              "    }\n",
              "</style>\n",
              "<table border=\"1\" class=\"dataframe\">\n",
              "  <thead>\n",
              "    <tr style=\"text-align: right;\">\n",
              "      <th></th>\n",
              "      <th>instant</th>\n",
              "      <th>season</th>\n",
              "      <th>yr</th>\n",
              "      <th>mnth</th>\n",
              "      <th>holiday</th>\n",
              "      <th>weekday</th>\n",
              "      <th>workingday</th>\n",
              "      <th>weathersit</th>\n",
              "      <th>temp</th>\n",
              "      <th>atemp</th>\n",
              "      <th>hum</th>\n",
              "      <th>windspeed</th>\n",
              "      <th>casual</th>\n",
              "      <th>registered</th>\n",
              "      <th>cnt</th>\n",
              "    </tr>\n",
              "  </thead>\n",
              "  <tbody>\n",
              "    <tr>\n",
              "      <th>count</th>\n",
              "      <td>731.000000</td>\n",
              "      <td>731.000000</td>\n",
              "      <td>731.000000</td>\n",
              "      <td>731.000000</td>\n",
              "      <td>731.000000</td>\n",
              "      <td>731.000000</td>\n",
              "      <td>731.000000</td>\n",
              "      <td>731.000000</td>\n",
              "      <td>731.000000</td>\n",
              "      <td>731.000000</td>\n",
              "      <td>731.000000</td>\n",
              "      <td>731.000000</td>\n",
              "      <td>731.000000</td>\n",
              "      <td>731.000000</td>\n",
              "      <td>731.000000</td>\n",
              "    </tr>\n",
              "    <tr>\n",
              "      <th>mean</th>\n",
              "      <td>366.000000</td>\n",
              "      <td>2.496580</td>\n",
              "      <td>0.500684</td>\n",
              "      <td>6.519836</td>\n",
              "      <td>0.028728</td>\n",
              "      <td>2.997264</td>\n",
              "      <td>0.683995</td>\n",
              "      <td>1.395349</td>\n",
              "      <td>0.495385</td>\n",
              "      <td>0.474354</td>\n",
              "      <td>0.627894</td>\n",
              "      <td>0.190486</td>\n",
              "      <td>848.176471</td>\n",
              "      <td>3656.172367</td>\n",
              "      <td>4504.348837</td>\n",
              "    </tr>\n",
              "    <tr>\n",
              "      <th>std</th>\n",
              "      <td>211.165812</td>\n",
              "      <td>1.110807</td>\n",
              "      <td>0.500342</td>\n",
              "      <td>3.451913</td>\n",
              "      <td>0.167155</td>\n",
              "      <td>2.004787</td>\n",
              "      <td>0.465233</td>\n",
              "      <td>0.544894</td>\n",
              "      <td>0.183051</td>\n",
              "      <td>0.162961</td>\n",
              "      <td>0.142429</td>\n",
              "      <td>0.077498</td>\n",
              "      <td>686.622488</td>\n",
              "      <td>1560.256377</td>\n",
              "      <td>1937.211452</td>\n",
              "    </tr>\n",
              "    <tr>\n",
              "      <th>min</th>\n",
              "      <td>1.000000</td>\n",
              "      <td>1.000000</td>\n",
              "      <td>0.000000</td>\n",
              "      <td>1.000000</td>\n",
              "      <td>0.000000</td>\n",
              "      <td>0.000000</td>\n",
              "      <td>0.000000</td>\n",
              "      <td>1.000000</td>\n",
              "      <td>0.059130</td>\n",
              "      <td>0.079070</td>\n",
              "      <td>0.000000</td>\n",
              "      <td>0.022392</td>\n",
              "      <td>2.000000</td>\n",
              "      <td>20.000000</td>\n",
              "      <td>22.000000</td>\n",
              "    </tr>\n",
              "    <tr>\n",
              "      <th>25%</th>\n",
              "      <td>183.500000</td>\n",
              "      <td>2.000000</td>\n",
              "      <td>0.000000</td>\n",
              "      <td>4.000000</td>\n",
              "      <td>0.000000</td>\n",
              "      <td>1.000000</td>\n",
              "      <td>0.000000</td>\n",
              "      <td>1.000000</td>\n",
              "      <td>0.337083</td>\n",
              "      <td>0.337842</td>\n",
              "      <td>0.520000</td>\n",
              "      <td>0.134950</td>\n",
              "      <td>315.500000</td>\n",
              "      <td>2497.000000</td>\n",
              "      <td>3152.000000</td>\n",
              "    </tr>\n",
              "    <tr>\n",
              "      <th>50%</th>\n",
              "      <td>366.000000</td>\n",
              "      <td>3.000000</td>\n",
              "      <td>1.000000</td>\n",
              "      <td>7.000000</td>\n",
              "      <td>0.000000</td>\n",
              "      <td>3.000000</td>\n",
              "      <td>1.000000</td>\n",
              "      <td>1.000000</td>\n",
              "      <td>0.498333</td>\n",
              "      <td>0.486733</td>\n",
              "      <td>0.626667</td>\n",
              "      <td>0.180975</td>\n",
              "      <td>713.000000</td>\n",
              "      <td>3662.000000</td>\n",
              "      <td>4548.000000</td>\n",
              "    </tr>\n",
              "    <tr>\n",
              "      <th>75%</th>\n",
              "      <td>548.500000</td>\n",
              "      <td>3.000000</td>\n",
              "      <td>1.000000</td>\n",
              "      <td>10.000000</td>\n",
              "      <td>0.000000</td>\n",
              "      <td>5.000000</td>\n",
              "      <td>1.000000</td>\n",
              "      <td>2.000000</td>\n",
              "      <td>0.655417</td>\n",
              "      <td>0.608602</td>\n",
              "      <td>0.730209</td>\n",
              "      <td>0.233214</td>\n",
              "      <td>1096.000000</td>\n",
              "      <td>4776.500000</td>\n",
              "      <td>5956.000000</td>\n",
              "    </tr>\n",
              "    <tr>\n",
              "      <th>max</th>\n",
              "      <td>731.000000</td>\n",
              "      <td>4.000000</td>\n",
              "      <td>1.000000</td>\n",
              "      <td>12.000000</td>\n",
              "      <td>1.000000</td>\n",
              "      <td>6.000000</td>\n",
              "      <td>1.000000</td>\n",
              "      <td>3.000000</td>\n",
              "      <td>0.861667</td>\n",
              "      <td>0.840896</td>\n",
              "      <td>0.972500</td>\n",
              "      <td>0.507463</td>\n",
              "      <td>3410.000000</td>\n",
              "      <td>6946.000000</td>\n",
              "      <td>8714.000000</td>\n",
              "    </tr>\n",
              "  </tbody>\n",
              "</table>\n",
              "</div>"
            ],
            "text/plain": [
              "          instant      season          yr        mnth     holiday     weekday  \\\n",
              "count  731.000000  731.000000  731.000000  731.000000  731.000000  731.000000   \n",
              "mean   366.000000    2.496580    0.500684    6.519836    0.028728    2.997264   \n",
              "std    211.165812    1.110807    0.500342    3.451913    0.167155    2.004787   \n",
              "min      1.000000    1.000000    0.000000    1.000000    0.000000    0.000000   \n",
              "25%    183.500000    2.000000    0.000000    4.000000    0.000000    1.000000   \n",
              "50%    366.000000    3.000000    1.000000    7.000000    0.000000    3.000000   \n",
              "75%    548.500000    3.000000    1.000000   10.000000    0.000000    5.000000   \n",
              "max    731.000000    4.000000    1.000000   12.000000    1.000000    6.000000   \n",
              "\n",
              "       workingday  weathersit        temp       atemp         hum   windspeed  \\\n",
              "count  731.000000  731.000000  731.000000  731.000000  731.000000  731.000000   \n",
              "mean     0.683995    1.395349    0.495385    0.474354    0.627894    0.190486   \n",
              "std      0.465233    0.544894    0.183051    0.162961    0.142429    0.077498   \n",
              "min      0.000000    1.000000    0.059130    0.079070    0.000000    0.022392   \n",
              "25%      0.000000    1.000000    0.337083    0.337842    0.520000    0.134950   \n",
              "50%      1.000000    1.000000    0.498333    0.486733    0.626667    0.180975   \n",
              "75%      1.000000    2.000000    0.655417    0.608602    0.730209    0.233214   \n",
              "max      1.000000    3.000000    0.861667    0.840896    0.972500    0.507463   \n",
              "\n",
              "            casual   registered          cnt  \n",
              "count   731.000000   731.000000   731.000000  \n",
              "mean    848.176471  3656.172367  4504.348837  \n",
              "std     686.622488  1560.256377  1937.211452  \n",
              "min       2.000000    20.000000    22.000000  \n",
              "25%     315.500000  2497.000000  3152.000000  \n",
              "50%     713.000000  3662.000000  4548.000000  \n",
              "75%    1096.000000  4776.500000  5956.000000  \n",
              "max    3410.000000  6946.000000  8714.000000  "
            ]
          },
          "execution_count": 7,
          "metadata": {},
          "output_type": "execute_result"
        }
      ],
      "source": [
        "day_rent_df.describe()"
      ]
    },
    {
      "cell_type": "markdown",
      "metadata": {
        "id": "GaYS5rfFrEvx"
      },
      "source": [
        "Dapat kita lihat diatas, tidak ada keanehan pada nilai statistiknya."
      ]
    },
    {
      "cell_type": "markdown",
      "metadata": {
        "id": "I331x435rKGz"
      },
      "source": [
        "### **Menilai hr_df**"
      ]
    },
    {
      "cell_type": "markdown",
      "metadata": {
        "id": "Hb4726QmrSWJ"
      },
      "source": [
        "Pertama Mengecek info hr_df"
      ]
    },
    {
      "cell_type": "code",
      "execution_count": 8,
      "metadata": {
        "colab": {
          "base_uri": "https://localhost:8080/"
        },
        "id": "VnzWhMFrrVU2",
        "outputId": "98d81675-1a68-4921-d21a-927db271a538"
      },
      "outputs": [
        {
          "name": "stdout",
          "output_type": "stream",
          "text": [
            "<class 'pandas.core.frame.DataFrame'>\n",
            "RangeIndex: 17379 entries, 0 to 17378\n",
            "Data columns (total 17 columns):\n",
            " #   Column      Non-Null Count  Dtype  \n",
            "---  ------      --------------  -----  \n",
            " 0   instant     17379 non-null  int64  \n",
            " 1   dteday      17379 non-null  object \n",
            " 2   season      17379 non-null  int64  \n",
            " 3   yr          17379 non-null  int64  \n",
            " 4   mnth        17379 non-null  int64  \n",
            " 5   hr          17379 non-null  int64  \n",
            " 6   holiday     17379 non-null  int64  \n",
            " 7   weekday     17379 non-null  int64  \n",
            " 8   workingday  17379 non-null  int64  \n",
            " 9   weathersit  17379 non-null  int64  \n",
            " 10  temp        17379 non-null  float64\n",
            " 11  atemp       17379 non-null  float64\n",
            " 12  hum         17379 non-null  float64\n",
            " 13  windspeed   17379 non-null  float64\n",
            " 14  casual      17379 non-null  int64  \n",
            " 15  registered  17379 non-null  int64  \n",
            " 16  cnt         17379 non-null  int64  \n",
            "dtypes: float64(4), int64(12), object(1)\n",
            "memory usage: 2.3+ MB\n"
          ]
        }
      ],
      "source": [
        "hour_rent_df.info()"
      ]
    },
    {
      "cell_type": "markdown",
      "metadata": {
        "id": "o-cusj4priX7"
      },
      "source": [
        "Dapat kita lihat diatas, terdapat 1 tipe data berdasarkan kolomnya yang tidak sesuai. Data yang perlu diperbaiki adalah: dteday -> datetime"
      ]
    },
    {
      "cell_type": "markdown",
      "metadata": {
        "id": "nAUwIgsnr6kU"
      },
      "source": [
        "Selanjutnya kita mengecek apakah ada missing values"
      ]
    },
    {
      "cell_type": "code",
      "execution_count": 9,
      "metadata": {
        "colab": {
          "base_uri": "https://localhost:8080/"
        },
        "id": "tmkCxpy5r-dI",
        "outputId": "ad9c4493-2772-40c1-9735-d5c3e2641211"
      },
      "outputs": [
        {
          "data": {
            "text/plain": [
              "instant       0\n",
              "dteday        0\n",
              "season        0\n",
              "yr            0\n",
              "mnth          0\n",
              "hr            0\n",
              "holiday       0\n",
              "weekday       0\n",
              "workingday    0\n",
              "weathersit    0\n",
              "temp          0\n",
              "atemp         0\n",
              "hum           0\n",
              "windspeed     0\n",
              "casual        0\n",
              "registered    0\n",
              "cnt           0\n",
              "dtype: int64"
            ]
          },
          "execution_count": 9,
          "metadata": {},
          "output_type": "execute_result"
        }
      ],
      "source": [
        "hour_rent_df.isna().sum()"
      ]
    },
    {
      "cell_type": "markdown",
      "metadata": {
        "id": "XrdbcgojsJw1"
      },
      "source": [
        "Sama seperti tabel day_df bahwa tabel hr_df tidak ada missing values, berarti aman."
      ]
    },
    {
      "cell_type": "markdown",
      "metadata": {
        "id": "otnf-COvsOyL"
      },
      "source": [
        "Selanjutnya kita mengecek apakah ada duplicate data"
      ]
    },
    {
      "cell_type": "code",
      "execution_count": 10,
      "metadata": {
        "colab": {
          "base_uri": "https://localhost:8080/"
        },
        "id": "XrBsRXemsVrO",
        "outputId": "508a33f8-44a9-43b2-d4fd-1763660adab6"
      },
      "outputs": [
        {
          "name": "stdout",
          "output_type": "stream",
          "text": [
            "Jumlah duplikasi data:  0\n"
          ]
        }
      ],
      "source": [
        "print(\"Jumlah duplikasi data: \", hour_rent_df.duplicated().sum())"
      ]
    },
    {
      "cell_type": "markdown",
      "metadata": {
        "id": "PspYBv-bFlQU"
      },
      "source": [
        "Selanjutnya kita mengecek apakah terdapat keanehan pada nilai statistiknya"
      ]
    },
    {
      "cell_type": "code",
      "execution_count": 11,
      "metadata": {
        "colab": {
          "base_uri": "https://localhost:8080/",
          "height": 320
        },
        "id": "88TeXHajFrnj",
        "outputId": "73610e8a-762e-4507-e73c-03a86d219100"
      },
      "outputs": [
        {
          "data": {
            "text/html": [
              "<div>\n",
              "<style scoped>\n",
              "    .dataframe tbody tr th:only-of-type {\n",
              "        vertical-align: middle;\n",
              "    }\n",
              "\n",
              "    .dataframe tbody tr th {\n",
              "        vertical-align: top;\n",
              "    }\n",
              "\n",
              "    .dataframe thead th {\n",
              "        text-align: right;\n",
              "    }\n",
              "</style>\n",
              "<table border=\"1\" class=\"dataframe\">\n",
              "  <thead>\n",
              "    <tr style=\"text-align: right;\">\n",
              "      <th></th>\n",
              "      <th>instant</th>\n",
              "      <th>season</th>\n",
              "      <th>yr</th>\n",
              "      <th>mnth</th>\n",
              "      <th>hr</th>\n",
              "      <th>holiday</th>\n",
              "      <th>weekday</th>\n",
              "      <th>workingday</th>\n",
              "      <th>weathersit</th>\n",
              "      <th>temp</th>\n",
              "      <th>atemp</th>\n",
              "      <th>hum</th>\n",
              "      <th>windspeed</th>\n",
              "      <th>casual</th>\n",
              "      <th>registered</th>\n",
              "      <th>cnt</th>\n",
              "    </tr>\n",
              "  </thead>\n",
              "  <tbody>\n",
              "    <tr>\n",
              "      <th>count</th>\n",
              "      <td>17379.0000</td>\n",
              "      <td>17379.000000</td>\n",
              "      <td>17379.000000</td>\n",
              "      <td>17379.000000</td>\n",
              "      <td>17379.000000</td>\n",
              "      <td>17379.000000</td>\n",
              "      <td>17379.000000</td>\n",
              "      <td>17379.000000</td>\n",
              "      <td>17379.000000</td>\n",
              "      <td>17379.000000</td>\n",
              "      <td>17379.000000</td>\n",
              "      <td>17379.000000</td>\n",
              "      <td>17379.000000</td>\n",
              "      <td>17379.000000</td>\n",
              "      <td>17379.000000</td>\n",
              "      <td>17379.000000</td>\n",
              "    </tr>\n",
              "    <tr>\n",
              "      <th>mean</th>\n",
              "      <td>8690.0000</td>\n",
              "      <td>2.501640</td>\n",
              "      <td>0.502561</td>\n",
              "      <td>6.537775</td>\n",
              "      <td>11.546752</td>\n",
              "      <td>0.028770</td>\n",
              "      <td>3.003683</td>\n",
              "      <td>0.682721</td>\n",
              "      <td>1.425283</td>\n",
              "      <td>0.496987</td>\n",
              "      <td>0.475775</td>\n",
              "      <td>0.627229</td>\n",
              "      <td>0.190098</td>\n",
              "      <td>35.676218</td>\n",
              "      <td>153.786869</td>\n",
              "      <td>189.463088</td>\n",
              "    </tr>\n",
              "    <tr>\n",
              "      <th>std</th>\n",
              "      <td>5017.0295</td>\n",
              "      <td>1.106918</td>\n",
              "      <td>0.500008</td>\n",
              "      <td>3.438776</td>\n",
              "      <td>6.914405</td>\n",
              "      <td>0.167165</td>\n",
              "      <td>2.005771</td>\n",
              "      <td>0.465431</td>\n",
              "      <td>0.639357</td>\n",
              "      <td>0.192556</td>\n",
              "      <td>0.171850</td>\n",
              "      <td>0.192930</td>\n",
              "      <td>0.122340</td>\n",
              "      <td>49.305030</td>\n",
              "      <td>151.357286</td>\n",
              "      <td>181.387599</td>\n",
              "    </tr>\n",
              "    <tr>\n",
              "      <th>min</th>\n",
              "      <td>1.0000</td>\n",
              "      <td>1.000000</td>\n",
              "      <td>0.000000</td>\n",
              "      <td>1.000000</td>\n",
              "      <td>0.000000</td>\n",
              "      <td>0.000000</td>\n",
              "      <td>0.000000</td>\n",
              "      <td>0.000000</td>\n",
              "      <td>1.000000</td>\n",
              "      <td>0.020000</td>\n",
              "      <td>0.000000</td>\n",
              "      <td>0.000000</td>\n",
              "      <td>0.000000</td>\n",
              "      <td>0.000000</td>\n",
              "      <td>0.000000</td>\n",
              "      <td>1.000000</td>\n",
              "    </tr>\n",
              "    <tr>\n",
              "      <th>25%</th>\n",
              "      <td>4345.5000</td>\n",
              "      <td>2.000000</td>\n",
              "      <td>0.000000</td>\n",
              "      <td>4.000000</td>\n",
              "      <td>6.000000</td>\n",
              "      <td>0.000000</td>\n",
              "      <td>1.000000</td>\n",
              "      <td>0.000000</td>\n",
              "      <td>1.000000</td>\n",
              "      <td>0.340000</td>\n",
              "      <td>0.333300</td>\n",
              "      <td>0.480000</td>\n",
              "      <td>0.104500</td>\n",
              "      <td>4.000000</td>\n",
              "      <td>34.000000</td>\n",
              "      <td>40.000000</td>\n",
              "    </tr>\n",
              "    <tr>\n",
              "      <th>50%</th>\n",
              "      <td>8690.0000</td>\n",
              "      <td>3.000000</td>\n",
              "      <td>1.000000</td>\n",
              "      <td>7.000000</td>\n",
              "      <td>12.000000</td>\n",
              "      <td>0.000000</td>\n",
              "      <td>3.000000</td>\n",
              "      <td>1.000000</td>\n",
              "      <td>1.000000</td>\n",
              "      <td>0.500000</td>\n",
              "      <td>0.484800</td>\n",
              "      <td>0.630000</td>\n",
              "      <td>0.194000</td>\n",
              "      <td>17.000000</td>\n",
              "      <td>115.000000</td>\n",
              "      <td>142.000000</td>\n",
              "    </tr>\n",
              "    <tr>\n",
              "      <th>75%</th>\n",
              "      <td>13034.5000</td>\n",
              "      <td>3.000000</td>\n",
              "      <td>1.000000</td>\n",
              "      <td>10.000000</td>\n",
              "      <td>18.000000</td>\n",
              "      <td>0.000000</td>\n",
              "      <td>5.000000</td>\n",
              "      <td>1.000000</td>\n",
              "      <td>2.000000</td>\n",
              "      <td>0.660000</td>\n",
              "      <td>0.621200</td>\n",
              "      <td>0.780000</td>\n",
              "      <td>0.253700</td>\n",
              "      <td>48.000000</td>\n",
              "      <td>220.000000</td>\n",
              "      <td>281.000000</td>\n",
              "    </tr>\n",
              "    <tr>\n",
              "      <th>max</th>\n",
              "      <td>17379.0000</td>\n",
              "      <td>4.000000</td>\n",
              "      <td>1.000000</td>\n",
              "      <td>12.000000</td>\n",
              "      <td>23.000000</td>\n",
              "      <td>1.000000</td>\n",
              "      <td>6.000000</td>\n",
              "      <td>1.000000</td>\n",
              "      <td>4.000000</td>\n",
              "      <td>1.000000</td>\n",
              "      <td>1.000000</td>\n",
              "      <td>1.000000</td>\n",
              "      <td>0.850700</td>\n",
              "      <td>367.000000</td>\n",
              "      <td>886.000000</td>\n",
              "      <td>977.000000</td>\n",
              "    </tr>\n",
              "  </tbody>\n",
              "</table>\n",
              "</div>"
            ],
            "text/plain": [
              "          instant        season            yr          mnth            hr  \\\n",
              "count  17379.0000  17379.000000  17379.000000  17379.000000  17379.000000   \n",
              "mean    8690.0000      2.501640      0.502561      6.537775     11.546752   \n",
              "std     5017.0295      1.106918      0.500008      3.438776      6.914405   \n",
              "min        1.0000      1.000000      0.000000      1.000000      0.000000   \n",
              "25%     4345.5000      2.000000      0.000000      4.000000      6.000000   \n",
              "50%     8690.0000      3.000000      1.000000      7.000000     12.000000   \n",
              "75%    13034.5000      3.000000      1.000000     10.000000     18.000000   \n",
              "max    17379.0000      4.000000      1.000000     12.000000     23.000000   \n",
              "\n",
              "            holiday       weekday    workingday    weathersit          temp  \\\n",
              "count  17379.000000  17379.000000  17379.000000  17379.000000  17379.000000   \n",
              "mean       0.028770      3.003683      0.682721      1.425283      0.496987   \n",
              "std        0.167165      2.005771      0.465431      0.639357      0.192556   \n",
              "min        0.000000      0.000000      0.000000      1.000000      0.020000   \n",
              "25%        0.000000      1.000000      0.000000      1.000000      0.340000   \n",
              "50%        0.000000      3.000000      1.000000      1.000000      0.500000   \n",
              "75%        0.000000      5.000000      1.000000      2.000000      0.660000   \n",
              "max        1.000000      6.000000      1.000000      4.000000      1.000000   \n",
              "\n",
              "              atemp           hum     windspeed        casual    registered  \\\n",
              "count  17379.000000  17379.000000  17379.000000  17379.000000  17379.000000   \n",
              "mean       0.475775      0.627229      0.190098     35.676218    153.786869   \n",
              "std        0.171850      0.192930      0.122340     49.305030    151.357286   \n",
              "min        0.000000      0.000000      0.000000      0.000000      0.000000   \n",
              "25%        0.333300      0.480000      0.104500      4.000000     34.000000   \n",
              "50%        0.484800      0.630000      0.194000     17.000000    115.000000   \n",
              "75%        0.621200      0.780000      0.253700     48.000000    220.000000   \n",
              "max        1.000000      1.000000      0.850700    367.000000    886.000000   \n",
              "\n",
              "                cnt  \n",
              "count  17379.000000  \n",
              "mean     189.463088  \n",
              "std      181.387599  \n",
              "min        1.000000  \n",
              "25%       40.000000  \n",
              "50%      142.000000  \n",
              "75%      281.000000  \n",
              "max      977.000000  "
            ]
          },
          "execution_count": 11,
          "metadata": {},
          "output_type": "execute_result"
        }
      ],
      "source": [
        "hour_rent_df.describe()"
      ]
    },
    {
      "cell_type": "markdown",
      "metadata": {
        "id": "whVHKiPIGHbR"
      },
      "source": [
        "Dapat kita lihat diatas, tidak ada keanehan pada nilai statistiknya."
      ]
    },
    {
      "cell_type": "markdown",
      "metadata": {
        "id": "Uz5dgcJm9HW5"
      },
      "source": [
        "### **Cleaning Data**"
      ]
    },
    {
      "cell_type": "markdown",
      "metadata": {
        "id": "tlFcZd1PIbIB"
      },
      "source": [
        "1. Menghapus tabel yang tidak diperlukan"
      ]
    },
    {
      "cell_type": "code",
      "execution_count": 12,
      "metadata": {
        "id": "ddrzMvOUGsu_"
      },
      "outputs": [],
      "source": [
        "del hour_rent_df"
      ]
    },
    {
      "cell_type": "markdown",
      "metadata": {
        "id": "szj41GktHpb3"
      },
      "source": [
        "2. Menghapus beberapa kolom yang tidak akan digunakan\n",
        "\n",
        "Berdasarkan pertanyaan bisnis yang sudah ada, maka untuk kolom yang akan didrop, yakni:\n",
        "- instant: Karena indeks catatan ini tidak memberikan informasi tambahan yang berguna.\n",
        "- windspeed: Tidak ada pertanyaan bisnis yang terkait dengan efek kecepatan angin terhadap jumlah penyewa sepeda."
      ]
    },
    {
      "cell_type": "code",
      "execution_count": 13,
      "metadata": {
        "colab": {
          "base_uri": "https://localhost:8080/",
          "height": 206
        },
        "id": "CCszTdXD9Ivf",
        "outputId": "581d9f39-cac7-4efb-fb54-8c239f45c0ed"
      },
      "outputs": [
        {
          "data": {
            "text/html": [
              "<div>\n",
              "<style scoped>\n",
              "    .dataframe tbody tr th:only-of-type {\n",
              "        vertical-align: middle;\n",
              "    }\n",
              "\n",
              "    .dataframe tbody tr th {\n",
              "        vertical-align: top;\n",
              "    }\n",
              "\n",
              "    .dataframe thead th {\n",
              "        text-align: right;\n",
              "    }\n",
              "</style>\n",
              "<table border=\"1\" class=\"dataframe\">\n",
              "  <thead>\n",
              "    <tr style=\"text-align: right;\">\n",
              "      <th></th>\n",
              "      <th>dteday</th>\n",
              "      <th>season</th>\n",
              "      <th>yr</th>\n",
              "      <th>mnth</th>\n",
              "      <th>holiday</th>\n",
              "      <th>weekday</th>\n",
              "      <th>workingday</th>\n",
              "      <th>weathersit</th>\n",
              "      <th>temp</th>\n",
              "      <th>atemp</th>\n",
              "      <th>hum</th>\n",
              "      <th>casual</th>\n",
              "      <th>registered</th>\n",
              "      <th>cnt</th>\n",
              "    </tr>\n",
              "  </thead>\n",
              "  <tbody>\n",
              "    <tr>\n",
              "      <th>0</th>\n",
              "      <td>2011-01-01</td>\n",
              "      <td>1</td>\n",
              "      <td>0</td>\n",
              "      <td>1</td>\n",
              "      <td>0</td>\n",
              "      <td>6</td>\n",
              "      <td>0</td>\n",
              "      <td>2</td>\n",
              "      <td>0.344167</td>\n",
              "      <td>0.363625</td>\n",
              "      <td>0.805833</td>\n",
              "      <td>331</td>\n",
              "      <td>654</td>\n",
              "      <td>985</td>\n",
              "    </tr>\n",
              "    <tr>\n",
              "      <th>1</th>\n",
              "      <td>2011-01-02</td>\n",
              "      <td>1</td>\n",
              "      <td>0</td>\n",
              "      <td>1</td>\n",
              "      <td>0</td>\n",
              "      <td>0</td>\n",
              "      <td>0</td>\n",
              "      <td>2</td>\n",
              "      <td>0.363478</td>\n",
              "      <td>0.353739</td>\n",
              "      <td>0.696087</td>\n",
              "      <td>131</td>\n",
              "      <td>670</td>\n",
              "      <td>801</td>\n",
              "    </tr>\n",
              "    <tr>\n",
              "      <th>2</th>\n",
              "      <td>2011-01-03</td>\n",
              "      <td>1</td>\n",
              "      <td>0</td>\n",
              "      <td>1</td>\n",
              "      <td>0</td>\n",
              "      <td>1</td>\n",
              "      <td>1</td>\n",
              "      <td>1</td>\n",
              "      <td>0.196364</td>\n",
              "      <td>0.189405</td>\n",
              "      <td>0.437273</td>\n",
              "      <td>120</td>\n",
              "      <td>1229</td>\n",
              "      <td>1349</td>\n",
              "    </tr>\n",
              "    <tr>\n",
              "      <th>3</th>\n",
              "      <td>2011-01-04</td>\n",
              "      <td>1</td>\n",
              "      <td>0</td>\n",
              "      <td>1</td>\n",
              "      <td>0</td>\n",
              "      <td>2</td>\n",
              "      <td>1</td>\n",
              "      <td>1</td>\n",
              "      <td>0.200000</td>\n",
              "      <td>0.212122</td>\n",
              "      <td>0.590435</td>\n",
              "      <td>108</td>\n",
              "      <td>1454</td>\n",
              "      <td>1562</td>\n",
              "    </tr>\n",
              "    <tr>\n",
              "      <th>4</th>\n",
              "      <td>2011-01-05</td>\n",
              "      <td>1</td>\n",
              "      <td>0</td>\n",
              "      <td>1</td>\n",
              "      <td>0</td>\n",
              "      <td>3</td>\n",
              "      <td>1</td>\n",
              "      <td>1</td>\n",
              "      <td>0.226957</td>\n",
              "      <td>0.229270</td>\n",
              "      <td>0.436957</td>\n",
              "      <td>82</td>\n",
              "      <td>1518</td>\n",
              "      <td>1600</td>\n",
              "    </tr>\n",
              "  </tbody>\n",
              "</table>\n",
              "</div>"
            ],
            "text/plain": [
              "       dteday  season  yr  mnth  holiday  weekday  workingday  weathersit  \\\n",
              "0  2011-01-01       1   0     1        0        6           0           2   \n",
              "1  2011-01-02       1   0     1        0        0           0           2   \n",
              "2  2011-01-03       1   0     1        0        1           1           1   \n",
              "3  2011-01-04       1   0     1        0        2           1           1   \n",
              "4  2011-01-05       1   0     1        0        3           1           1   \n",
              "\n",
              "       temp     atemp       hum  casual  registered   cnt  \n",
              "0  0.344167  0.363625  0.805833     331         654   985  \n",
              "1  0.363478  0.353739  0.696087     131         670   801  \n",
              "2  0.196364  0.189405  0.437273     120        1229  1349  \n",
              "3  0.200000  0.212122  0.590435     108        1454  1562  \n",
              "4  0.226957  0.229270  0.436957      82        1518  1600  "
            ]
          },
          "execution_count": 13,
          "metadata": {},
          "output_type": "execute_result"
        }
      ],
      "source": [
        "drop_col = ['instant', 'windspeed']\n",
        "\n",
        "for i in day_rent_df.columns:\n",
        "  if i in drop_col:\n",
        "    day_rent_df.drop(labels=i, axis=1, inplace=True)\n",
        "\n",
        "day_rent_df.head()"
      ]
    },
    {
      "cell_type": "markdown",
      "metadata": {
        "id": "-s138dPIK9rp"
      },
      "source": [
        "3. Mengubah beberapa detail tentang kolom\n",
        "\n",
        "mengapa ini saya lakukan, ini bertujuan untuk mempermudah mengenali nama kolomnya."
      ]
    },
    {
      "cell_type": "code",
      "execution_count": 14,
      "metadata": {
        "colab": {
          "base_uri": "https://localhost:8080/",
          "height": 206
        },
        "id": "7RYNcLaQOwFV",
        "outputId": "020f0cfa-9683-47a6-d6fa-09ad81f71033"
      },
      "outputs": [
        {
          "data": {
            "text/html": [
              "<div>\n",
              "<style scoped>\n",
              "    .dataframe tbody tr th:only-of-type {\n",
              "        vertical-align: middle;\n",
              "    }\n",
              "\n",
              "    .dataframe tbody tr th {\n",
              "        vertical-align: top;\n",
              "    }\n",
              "\n",
              "    .dataframe thead th {\n",
              "        text-align: right;\n",
              "    }\n",
              "</style>\n",
              "<table border=\"1\" class=\"dataframe\">\n",
              "  <thead>\n",
              "    <tr style=\"text-align: right;\">\n",
              "      <th></th>\n",
              "      <th>dateday</th>\n",
              "      <th>season</th>\n",
              "      <th>year</th>\n",
              "      <th>month</th>\n",
              "      <th>holiday</th>\n",
              "      <th>weekday</th>\n",
              "      <th>workingday</th>\n",
              "      <th>weather_cond</th>\n",
              "      <th>temp</th>\n",
              "      <th>atemp</th>\n",
              "      <th>hum</th>\n",
              "      <th>casual</th>\n",
              "      <th>registered</th>\n",
              "      <th>count</th>\n",
              "    </tr>\n",
              "  </thead>\n",
              "  <tbody>\n",
              "    <tr>\n",
              "      <th>0</th>\n",
              "      <td>2011-01-01</td>\n",
              "      <td>1</td>\n",
              "      <td>0</td>\n",
              "      <td>1</td>\n",
              "      <td>0</td>\n",
              "      <td>6</td>\n",
              "      <td>0</td>\n",
              "      <td>2</td>\n",
              "      <td>0.344167</td>\n",
              "      <td>0.363625</td>\n",
              "      <td>0.805833</td>\n",
              "      <td>331</td>\n",
              "      <td>654</td>\n",
              "      <td>985</td>\n",
              "    </tr>\n",
              "    <tr>\n",
              "      <th>1</th>\n",
              "      <td>2011-01-02</td>\n",
              "      <td>1</td>\n",
              "      <td>0</td>\n",
              "      <td>1</td>\n",
              "      <td>0</td>\n",
              "      <td>0</td>\n",
              "      <td>0</td>\n",
              "      <td>2</td>\n",
              "      <td>0.363478</td>\n",
              "      <td>0.353739</td>\n",
              "      <td>0.696087</td>\n",
              "      <td>131</td>\n",
              "      <td>670</td>\n",
              "      <td>801</td>\n",
              "    </tr>\n",
              "    <tr>\n",
              "      <th>2</th>\n",
              "      <td>2011-01-03</td>\n",
              "      <td>1</td>\n",
              "      <td>0</td>\n",
              "      <td>1</td>\n",
              "      <td>0</td>\n",
              "      <td>1</td>\n",
              "      <td>1</td>\n",
              "      <td>1</td>\n",
              "      <td>0.196364</td>\n",
              "      <td>0.189405</td>\n",
              "      <td>0.437273</td>\n",
              "      <td>120</td>\n",
              "      <td>1229</td>\n",
              "      <td>1349</td>\n",
              "    </tr>\n",
              "    <tr>\n",
              "      <th>3</th>\n",
              "      <td>2011-01-04</td>\n",
              "      <td>1</td>\n",
              "      <td>0</td>\n",
              "      <td>1</td>\n",
              "      <td>0</td>\n",
              "      <td>2</td>\n",
              "      <td>1</td>\n",
              "      <td>1</td>\n",
              "      <td>0.200000</td>\n",
              "      <td>0.212122</td>\n",
              "      <td>0.590435</td>\n",
              "      <td>108</td>\n",
              "      <td>1454</td>\n",
              "      <td>1562</td>\n",
              "    </tr>\n",
              "    <tr>\n",
              "      <th>4</th>\n",
              "      <td>2011-01-05</td>\n",
              "      <td>1</td>\n",
              "      <td>0</td>\n",
              "      <td>1</td>\n",
              "      <td>0</td>\n",
              "      <td>3</td>\n",
              "      <td>1</td>\n",
              "      <td>1</td>\n",
              "      <td>0.226957</td>\n",
              "      <td>0.229270</td>\n",
              "      <td>0.436957</td>\n",
              "      <td>82</td>\n",
              "      <td>1518</td>\n",
              "      <td>1600</td>\n",
              "    </tr>\n",
              "  </tbody>\n",
              "</table>\n",
              "</div>"
            ],
            "text/plain": [
              "      dateday  season  year  month  holiday  weekday  workingday  \\\n",
              "0  2011-01-01       1     0      1        0        6           0   \n",
              "1  2011-01-02       1     0      1        0        0           0   \n",
              "2  2011-01-03       1     0      1        0        1           1   \n",
              "3  2011-01-04       1     0      1        0        2           1   \n",
              "4  2011-01-05       1     0      1        0        3           1   \n",
              "\n",
              "   weather_cond      temp     atemp       hum  casual  registered  count  \n",
              "0             2  0.344167  0.363625  0.805833     331         654    985  \n",
              "1             2  0.363478  0.353739  0.696087     131         670    801  \n",
              "2             1  0.196364  0.189405  0.437273     120        1229   1349  \n",
              "3             1  0.200000  0.212122  0.590435     108        1454   1562  \n",
              "4             1  0.226957  0.229270  0.436957      82        1518   1600  "
            ]
          },
          "execution_count": 14,
          "metadata": {},
          "output_type": "execute_result"
        }
      ],
      "source": [
        "# Mengubah nama judul kolom\n",
        "day_rent_df.rename(columns={\n",
        "    'dteday': 'dateday',\n",
        "    'yr': 'year',\n",
        "    'mnth': 'month',\n",
        "    'weathersit': 'weather_cond',\n",
        "    'cnt': 'count'\n",
        "}, inplace=True)\n",
        "\n",
        "day_rent_df.head()"
      ]
    },
    {
      "cell_type": "code",
      "execution_count": 15,
      "metadata": {
        "id": "ey0OrZDeQRwP"
      },
      "outputs": [],
      "source": [
        "# Mengubah angka menjadi keterangan\n",
        "day_rent_df['month'] = day_rent_df['month'].map({\n",
        "    1: 'Januari', 2: 'Februari', 3: 'Maret', 4: 'April', 5: 'Mei', 6: 'Juni',\n",
        "    7: 'Juli', 8: 'Agustus', 9: 'September', 10: 'Oktober', 11: 'November', 12: 'Desember'\n",
        "})\n",
        "day_rent_df['season'] = day_rent_df['season'].map({\n",
        "    1: 'Spring', 2: 'Summer', 3: 'Fall', 4: 'Winter'\n",
        "})\n",
        "day_rent_df['weekday'] = day_rent_df['weekday'].map({\n",
        "    0: 'Minggu', 1: 'Senin', 2: 'Selasa', 3: 'Rabu', 4: 'Kamis', 5: 'Jumat', 6: 'Sabtu'\n",
        "})\n",
        "day_rent_df['weather_cond'] = day_rent_df['weather_cond'].map({\n",
        "    1: 'Cerah/Sebagian Berawan',\n",
        "    2: 'Berkabut/Berawan',\n",
        "    3: 'Salju Ringan/Hujan',\n",
        "    4: 'Cuaca buruk'\n",
        "})"
      ]
    },
    {
      "cell_type": "code",
      "execution_count": 16,
      "metadata": {
        "colab": {
          "base_uri": "https://localhost:8080/",
          "height": 206
        },
        "id": "viYvYTZwTrf-",
        "outputId": "8a8a08fa-d35f-41cf-afc6-72701667e279"
      },
      "outputs": [
        {
          "data": {
            "text/html": [
              "<div>\n",
              "<style scoped>\n",
              "    .dataframe tbody tr th:only-of-type {\n",
              "        vertical-align: middle;\n",
              "    }\n",
              "\n",
              "    .dataframe tbody tr th {\n",
              "        vertical-align: top;\n",
              "    }\n",
              "\n",
              "    .dataframe thead th {\n",
              "        text-align: right;\n",
              "    }\n",
              "</style>\n",
              "<table border=\"1\" class=\"dataframe\">\n",
              "  <thead>\n",
              "    <tr style=\"text-align: right;\">\n",
              "      <th></th>\n",
              "      <th>dateday</th>\n",
              "      <th>season</th>\n",
              "      <th>year</th>\n",
              "      <th>month</th>\n",
              "      <th>holiday</th>\n",
              "      <th>weekday</th>\n",
              "      <th>workingday</th>\n",
              "      <th>weather_cond</th>\n",
              "      <th>temp</th>\n",
              "      <th>atemp</th>\n",
              "      <th>hum</th>\n",
              "      <th>casual</th>\n",
              "      <th>registered</th>\n",
              "      <th>count</th>\n",
              "    </tr>\n",
              "  </thead>\n",
              "  <tbody>\n",
              "    <tr>\n",
              "      <th>0</th>\n",
              "      <td>2011-01-01</td>\n",
              "      <td>Spring</td>\n",
              "      <td>0</td>\n",
              "      <td>Januari</td>\n",
              "      <td>0</td>\n",
              "      <td>Sabtu</td>\n",
              "      <td>0</td>\n",
              "      <td>Berkabut/Berawan</td>\n",
              "      <td>0.344167</td>\n",
              "      <td>0.363625</td>\n",
              "      <td>0.805833</td>\n",
              "      <td>331</td>\n",
              "      <td>654</td>\n",
              "      <td>985</td>\n",
              "    </tr>\n",
              "    <tr>\n",
              "      <th>1</th>\n",
              "      <td>2011-01-02</td>\n",
              "      <td>Spring</td>\n",
              "      <td>0</td>\n",
              "      <td>Januari</td>\n",
              "      <td>0</td>\n",
              "      <td>Minggu</td>\n",
              "      <td>0</td>\n",
              "      <td>Berkabut/Berawan</td>\n",
              "      <td>0.363478</td>\n",
              "      <td>0.353739</td>\n",
              "      <td>0.696087</td>\n",
              "      <td>131</td>\n",
              "      <td>670</td>\n",
              "      <td>801</td>\n",
              "    </tr>\n",
              "    <tr>\n",
              "      <th>2</th>\n",
              "      <td>2011-01-03</td>\n",
              "      <td>Spring</td>\n",
              "      <td>0</td>\n",
              "      <td>Januari</td>\n",
              "      <td>0</td>\n",
              "      <td>Senin</td>\n",
              "      <td>1</td>\n",
              "      <td>Cerah/Sebagian Berawan</td>\n",
              "      <td>0.196364</td>\n",
              "      <td>0.189405</td>\n",
              "      <td>0.437273</td>\n",
              "      <td>120</td>\n",
              "      <td>1229</td>\n",
              "      <td>1349</td>\n",
              "    </tr>\n",
              "    <tr>\n",
              "      <th>3</th>\n",
              "      <td>2011-01-04</td>\n",
              "      <td>Spring</td>\n",
              "      <td>0</td>\n",
              "      <td>Januari</td>\n",
              "      <td>0</td>\n",
              "      <td>Selasa</td>\n",
              "      <td>1</td>\n",
              "      <td>Cerah/Sebagian Berawan</td>\n",
              "      <td>0.200000</td>\n",
              "      <td>0.212122</td>\n",
              "      <td>0.590435</td>\n",
              "      <td>108</td>\n",
              "      <td>1454</td>\n",
              "      <td>1562</td>\n",
              "    </tr>\n",
              "    <tr>\n",
              "      <th>4</th>\n",
              "      <td>2011-01-05</td>\n",
              "      <td>Spring</td>\n",
              "      <td>0</td>\n",
              "      <td>Januari</td>\n",
              "      <td>0</td>\n",
              "      <td>Rabu</td>\n",
              "      <td>1</td>\n",
              "      <td>Cerah/Sebagian Berawan</td>\n",
              "      <td>0.226957</td>\n",
              "      <td>0.229270</td>\n",
              "      <td>0.436957</td>\n",
              "      <td>82</td>\n",
              "      <td>1518</td>\n",
              "      <td>1600</td>\n",
              "    </tr>\n",
              "  </tbody>\n",
              "</table>\n",
              "</div>"
            ],
            "text/plain": [
              "     dateday  season year    month holiday weekday workingday  \\\n",
              "0 2011-01-01  Spring    0  Januari       0   Sabtu          0   \n",
              "1 2011-01-02  Spring    0  Januari       0  Minggu          0   \n",
              "2 2011-01-03  Spring    0  Januari       0   Senin          1   \n",
              "3 2011-01-04  Spring    0  Januari       0  Selasa          1   \n",
              "4 2011-01-05  Spring    0  Januari       0    Rabu          1   \n",
              "\n",
              "             weather_cond      temp     atemp       hum  casual  registered  \\\n",
              "0        Berkabut/Berawan  0.344167  0.363625  0.805833     331         654   \n",
              "1        Berkabut/Berawan  0.363478  0.353739  0.696087     131         670   \n",
              "2  Cerah/Sebagian Berawan  0.196364  0.189405  0.437273     120        1229   \n",
              "3  Cerah/Sebagian Berawan  0.200000  0.212122  0.590435     108        1454   \n",
              "4  Cerah/Sebagian Berawan  0.226957  0.229270  0.436957      82        1518   \n",
              "\n",
              "   count  \n",
              "0    985  \n",
              "1    801  \n",
              "2   1349  \n",
              "3   1562  \n",
              "4   1600  "
            ]
          },
          "execution_count": 16,
          "metadata": {},
          "output_type": "execute_result"
        }
      ],
      "source": [
        "# Mengubah tipe data ke datetime\n",
        "day_rent_df['dateday'] = pd.to_datetime(day_rent_df.dateday)\n",
        "\n",
        "# Mengubaha tipe data ke categorical\n",
        "day_rent_df['season'] = day_rent_df.season.astype('category')\n",
        "day_rent_df['year'] = day_rent_df.year.astype('category')\n",
        "day_rent_df['month'] = day_rent_df.month.astype('category')\n",
        "day_rent_df['holiday'] = day_rent_df.holiday.astype('category')\n",
        "day_rent_df['weekday'] = day_rent_df.weekday.astype('category')\n",
        "day_rent_df['workingday'] = day_rent_df.workingday.astype('category')\n",
        "day_rent_df['weather_cond'] = day_rent_df.weather_cond.astype('category')\n",
        "\n",
        "day_rent_df.head()"
      ]
    },
    {
      "cell_type": "code",
      "execution_count": 17,
      "metadata": {
        "colab": {
          "base_uri": "https://localhost:8080/"
        },
        "id": "5euS_y6fMLTe",
        "outputId": "ba0aecac-9481-4de2-9d1d-f74c98c3f736"
      },
      "outputs": [
        {
          "name": "stdout",
          "output_type": "stream",
          "text": [
            "<class 'pandas.core.frame.DataFrame'>\n",
            "RangeIndex: 731 entries, 0 to 730\n",
            "Data columns (total 14 columns):\n",
            " #   Column        Non-Null Count  Dtype         \n",
            "---  ------        --------------  -----         \n",
            " 0   dateday       731 non-null    datetime64[ns]\n",
            " 1   season        731 non-null    category      \n",
            " 2   year          731 non-null    category      \n",
            " 3   month         731 non-null    category      \n",
            " 4   holiday       731 non-null    category      \n",
            " 5   weekday       731 non-null    category      \n",
            " 6   workingday    731 non-null    category      \n",
            " 7   weather_cond  731 non-null    category      \n",
            " 8   temp          731 non-null    float64       \n",
            " 9   atemp         731 non-null    float64       \n",
            " 10  hum           731 non-null    float64       \n",
            " 11  casual        731 non-null    int64         \n",
            " 12  registered    731 non-null    int64         \n",
            " 13  count         731 non-null    int64         \n",
            "dtypes: category(7), datetime64[ns](1), float64(3), int64(3)\n",
            "memory usage: 46.5 KB\n"
          ]
        }
      ],
      "source": [
        "day_rent_df.info()"
      ]
    },
    {
      "cell_type": "markdown",
      "metadata": {
        "id": "EyPJaCDm9KFb"
      },
      "source": [
        "## **Exploratory Data Analysis (EDA)**"
      ]
    },
    {
      "cell_type": "markdown",
      "metadata": {
        "id": "hxgJ6qd69Mce"
      },
      "source": [
        "### **Eksplorasi Data day_df**"
      ]
    },
    {
      "cell_type": "markdown",
      "metadata": {
        "id": "jZEeEP2kXQtj"
      },
      "source": [
        "Pertama kita kelompokkan penyewa sepeda (baik casual dan registered) berdasarkan bulan"
      ]
    },
    {
      "cell_type": "code",
      "execution_count": 18,
      "metadata": {
        "colab": {
          "base_uri": "https://localhost:8080/",
          "height": 488
        },
        "id": "Xo68yguo9LTl",
        "outputId": "2f14cebc-6320-4639-a648-b3baac95c0c3"
      },
      "outputs": [
        {
          "name": "stderr",
          "output_type": "stream",
          "text": [
            "C:\\Users\\OKA\\AppData\\Local\\Temp\\ipykernel_3016\\3403954821.py:1: FutureWarning: The default of observed=False is deprecated and will be changed to True in a future version of pandas. Pass observed=False to retain current behavior or observed=True to adopt the future default and silence this warning.\n",
            "  day_rent_df.groupby(by='month').agg({\n"
          ]
        },
        {
          "data": {
            "text/html": [
              "<div>\n",
              "<style scoped>\n",
              "    .dataframe tbody tr th:only-of-type {\n",
              "        vertical-align: middle;\n",
              "    }\n",
              "\n",
              "    .dataframe tbody tr th {\n",
              "        vertical-align: top;\n",
              "    }\n",
              "\n",
              "    .dataframe thead tr th {\n",
              "        text-align: left;\n",
              "    }\n",
              "\n",
              "    .dataframe thead tr:last-of-type th {\n",
              "        text-align: right;\n",
              "    }\n",
              "</style>\n",
              "<table border=\"1\" class=\"dataframe\">\n",
              "  <thead>\n",
              "    <tr>\n",
              "      <th></th>\n",
              "      <th colspan=\"4\" halign=\"left\">count</th>\n",
              "    </tr>\n",
              "    <tr>\n",
              "      <th></th>\n",
              "      <th>max</th>\n",
              "      <th>min</th>\n",
              "      <th>mean</th>\n",
              "      <th>sum</th>\n",
              "    </tr>\n",
              "    <tr>\n",
              "      <th>month</th>\n",
              "      <th></th>\n",
              "      <th></th>\n",
              "      <th></th>\n",
              "      <th></th>\n",
              "    </tr>\n",
              "  </thead>\n",
              "  <tbody>\n",
              "    <tr>\n",
              "      <th>Agustus</th>\n",
              "      <td>7865</td>\n",
              "      <td>1115</td>\n",
              "      <td>5664.419355</td>\n",
              "      <td>351194</td>\n",
              "    </tr>\n",
              "    <tr>\n",
              "      <th>April</th>\n",
              "      <td>7460</td>\n",
              "      <td>795</td>\n",
              "      <td>4484.900000</td>\n",
              "      <td>269094</td>\n",
              "    </tr>\n",
              "    <tr>\n",
              "      <th>Desember</th>\n",
              "      <td>6606</td>\n",
              "      <td>441</td>\n",
              "      <td>3403.806452</td>\n",
              "      <td>211036</td>\n",
              "    </tr>\n",
              "    <tr>\n",
              "      <th>Februari</th>\n",
              "      <td>5062</td>\n",
              "      <td>1005</td>\n",
              "      <td>2655.298246</td>\n",
              "      <td>151352</td>\n",
              "    </tr>\n",
              "    <tr>\n",
              "      <th>Januari</th>\n",
              "      <td>4521</td>\n",
              "      <td>431</td>\n",
              "      <td>2176.338710</td>\n",
              "      <td>134933</td>\n",
              "    </tr>\n",
              "    <tr>\n",
              "      <th>Juli</th>\n",
              "      <td>8173</td>\n",
              "      <td>3285</td>\n",
              "      <td>5563.677419</td>\n",
              "      <td>344948</td>\n",
              "    </tr>\n",
              "    <tr>\n",
              "      <th>Juni</th>\n",
              "      <td>8120</td>\n",
              "      <td>3767</td>\n",
              "      <td>5772.366667</td>\n",
              "      <td>346342</td>\n",
              "    </tr>\n",
              "    <tr>\n",
              "      <th>Maret</th>\n",
              "      <td>8362</td>\n",
              "      <td>605</td>\n",
              "      <td>3692.258065</td>\n",
              "      <td>228920</td>\n",
              "    </tr>\n",
              "    <tr>\n",
              "      <th>Mei</th>\n",
              "      <td>8294</td>\n",
              "      <td>2633</td>\n",
              "      <td>5349.774194</td>\n",
              "      <td>331686</td>\n",
              "    </tr>\n",
              "    <tr>\n",
              "      <th>November</th>\n",
              "      <td>6852</td>\n",
              "      <td>1495</td>\n",
              "      <td>4247.183333</td>\n",
              "      <td>254831</td>\n",
              "    </tr>\n",
              "    <tr>\n",
              "      <th>Oktober</th>\n",
              "      <td>8156</td>\n",
              "      <td>22</td>\n",
              "      <td>5199.225806</td>\n",
              "      <td>322352</td>\n",
              "    </tr>\n",
              "    <tr>\n",
              "      <th>September</th>\n",
              "      <td>8714</td>\n",
              "      <td>1842</td>\n",
              "      <td>5766.516667</td>\n",
              "      <td>345991</td>\n",
              "    </tr>\n",
              "  </tbody>\n",
              "</table>\n",
              "</div>"
            ],
            "text/plain": [
              "          count                           \n",
              "            max   min         mean     sum\n",
              "month                                     \n",
              "Agustus    7865  1115  5664.419355  351194\n",
              "April      7460   795  4484.900000  269094\n",
              "Desember   6606   441  3403.806452  211036\n",
              "Februari   5062  1005  2655.298246  151352\n",
              "Januari    4521   431  2176.338710  134933\n",
              "Juli       8173  3285  5563.677419  344948\n",
              "Juni       8120  3767  5772.366667  346342\n",
              "Maret      8362   605  3692.258065  228920\n",
              "Mei        8294  2633  5349.774194  331686\n",
              "November   6852  1495  4247.183333  254831\n",
              "Oktober    8156    22  5199.225806  322352\n",
              "September  8714  1842  5766.516667  345991"
            ]
          },
          "execution_count": 18,
          "metadata": {},
          "output_type": "execute_result"
        }
      ],
      "source": [
        "day_rent_df.groupby(by='month').agg({\n",
        "    'count': ['max', 'min', 'mean', 'sum']\n",
        "})"
      ]
    },
    {
      "cell_type": "markdown",
      "metadata": {
        "id": "YFpD3BIIYvoo"
      },
      "source": [
        "Kedua kita kelompokkan penyewa sepeda (baik casual dan registered) berdasarkan keadaan cuaca"
      ]
    },
    {
      "cell_type": "code",
      "execution_count": 19,
      "metadata": {
        "colab": {
          "base_uri": "https://localhost:8080/",
          "height": 206
        },
        "id": "VXGbaEgpYvSO",
        "outputId": "22eac42c-631c-4387-ebd9-370a9b506bc6"
      },
      "outputs": [
        {
          "name": "stderr",
          "output_type": "stream",
          "text": [
            "C:\\Users\\OKA\\AppData\\Local\\Temp\\ipykernel_3016\\3818001042.py:1: FutureWarning: The default of observed=False is deprecated and will be changed to True in a future version of pandas. Pass observed=False to retain current behavior or observed=True to adopt the future default and silence this warning.\n",
            "  day_rent_df.groupby(by='weather_cond').agg({\n"
          ]
        },
        {
          "data": {
            "text/html": [
              "<div>\n",
              "<style scoped>\n",
              "    .dataframe tbody tr th:only-of-type {\n",
              "        vertical-align: middle;\n",
              "    }\n",
              "\n",
              "    .dataframe tbody tr th {\n",
              "        vertical-align: top;\n",
              "    }\n",
              "\n",
              "    .dataframe thead tr th {\n",
              "        text-align: left;\n",
              "    }\n",
              "\n",
              "    .dataframe thead tr:last-of-type th {\n",
              "        text-align: right;\n",
              "    }\n",
              "</style>\n",
              "<table border=\"1\" class=\"dataframe\">\n",
              "  <thead>\n",
              "    <tr>\n",
              "      <th></th>\n",
              "      <th colspan=\"4\" halign=\"left\">count</th>\n",
              "    </tr>\n",
              "    <tr>\n",
              "      <th></th>\n",
              "      <th>max</th>\n",
              "      <th>min</th>\n",
              "      <th>mean</th>\n",
              "      <th>sum</th>\n",
              "    </tr>\n",
              "    <tr>\n",
              "      <th>weather_cond</th>\n",
              "      <th></th>\n",
              "      <th></th>\n",
              "      <th></th>\n",
              "      <th></th>\n",
              "    </tr>\n",
              "  </thead>\n",
              "  <tbody>\n",
              "    <tr>\n",
              "      <th>Berkabut/Berawan</th>\n",
              "      <td>8362</td>\n",
              "      <td>605</td>\n",
              "      <td>4035.862348</td>\n",
              "      <td>996858</td>\n",
              "    </tr>\n",
              "    <tr>\n",
              "      <th>Cerah/Sebagian Berawan</th>\n",
              "      <td>8714</td>\n",
              "      <td>431</td>\n",
              "      <td>4876.786177</td>\n",
              "      <td>2257952</td>\n",
              "    </tr>\n",
              "    <tr>\n",
              "      <th>Salju Ringan/Hujan</th>\n",
              "      <td>4639</td>\n",
              "      <td>22</td>\n",
              "      <td>1803.285714</td>\n",
              "      <td>37869</td>\n",
              "    </tr>\n",
              "  </tbody>\n",
              "</table>\n",
              "</div>"
            ],
            "text/plain": [
              "                       count                           \n",
              "                         max  min         mean      sum\n",
              "weather_cond                                           \n",
              "Berkabut/Berawan        8362  605  4035.862348   996858\n",
              "Cerah/Sebagian Berawan  8714  431  4876.786177  2257952\n",
              "Salju Ringan/Hujan      4639   22  1803.285714    37869"
            ]
          },
          "execution_count": 19,
          "metadata": {},
          "output_type": "execute_result"
        }
      ],
      "source": [
        "day_rent_df.groupby(by='weather_cond').agg({\n",
        "    'count': ['max', 'min', 'mean', 'sum']\n",
        "})"
      ]
    },
    {
      "cell_type": "markdown",
      "metadata": {
        "id": "dEUpRUyFSgu6"
      },
      "source": [
        "Selanjutnya kita kelompokkan penyewa sepeda (baik casual dan registered) berdasarkan season"
      ]
    },
    {
      "cell_type": "code",
      "execution_count": 20,
      "metadata": {
        "colab": {
          "base_uri": "https://localhost:8080/",
          "height": 238
        },
        "id": "cI5EWqdkSp1F",
        "outputId": "8f2af272-654a-4f55-a191-29c337e2998e"
      },
      "outputs": [
        {
          "name": "stderr",
          "output_type": "stream",
          "text": [
            "C:\\Users\\OKA\\AppData\\Local\\Temp\\ipykernel_3016\\3384790079.py:1: FutureWarning: The default of observed=False is deprecated and will be changed to True in a future version of pandas. Pass observed=False to retain current behavior or observed=True to adopt the future default and silence this warning.\n",
            "  day_rent_df.groupby(by='season').agg({\n"
          ]
        },
        {
          "data": {
            "text/html": [
              "<div>\n",
              "<style scoped>\n",
              "    .dataframe tbody tr th:only-of-type {\n",
              "        vertical-align: middle;\n",
              "    }\n",
              "\n",
              "    .dataframe tbody tr th {\n",
              "        vertical-align: top;\n",
              "    }\n",
              "\n",
              "    .dataframe thead tr th {\n",
              "        text-align: left;\n",
              "    }\n",
              "\n",
              "    .dataframe thead tr:last-of-type th {\n",
              "        text-align: right;\n",
              "    }\n",
              "</style>\n",
              "<table border=\"1\" class=\"dataframe\">\n",
              "  <thead>\n",
              "    <tr>\n",
              "      <th></th>\n",
              "      <th>casual</th>\n",
              "      <th>registered</th>\n",
              "      <th colspan=\"3\" halign=\"left\">count</th>\n",
              "    </tr>\n",
              "    <tr>\n",
              "      <th></th>\n",
              "      <th>mean</th>\n",
              "      <th>mean</th>\n",
              "      <th>max</th>\n",
              "      <th>min</th>\n",
              "      <th>mean</th>\n",
              "    </tr>\n",
              "    <tr>\n",
              "      <th>season</th>\n",
              "      <th></th>\n",
              "      <th></th>\n",
              "      <th></th>\n",
              "      <th></th>\n",
              "      <th></th>\n",
              "    </tr>\n",
              "  </thead>\n",
              "  <tbody>\n",
              "    <tr>\n",
              "      <th>Fall</th>\n",
              "      <td>1202.611702</td>\n",
              "      <td>4441.691489</td>\n",
              "      <td>8714</td>\n",
              "      <td>1115</td>\n",
              "      <td>5644.303191</td>\n",
              "    </tr>\n",
              "    <tr>\n",
              "      <th>Spring</th>\n",
              "      <td>334.928177</td>\n",
              "      <td>2269.204420</td>\n",
              "      <td>7836</td>\n",
              "      <td>431</td>\n",
              "      <td>2604.132597</td>\n",
              "    </tr>\n",
              "    <tr>\n",
              "      <th>Summer</th>\n",
              "      <td>1106.097826</td>\n",
              "      <td>3886.233696</td>\n",
              "      <td>8362</td>\n",
              "      <td>795</td>\n",
              "      <td>4992.331522</td>\n",
              "    </tr>\n",
              "    <tr>\n",
              "      <th>Winter</th>\n",
              "      <td>729.112360</td>\n",
              "      <td>3999.050562</td>\n",
              "      <td>8555</td>\n",
              "      <td>22</td>\n",
              "      <td>4728.162921</td>\n",
              "    </tr>\n",
              "  </tbody>\n",
              "</table>\n",
              "</div>"
            ],
            "text/plain": [
              "             casual   registered count                   \n",
              "               mean         mean   max   min         mean\n",
              "season                                                   \n",
              "Fall    1202.611702  4441.691489  8714  1115  5644.303191\n",
              "Spring   334.928177  2269.204420  7836   431  2604.132597\n",
              "Summer  1106.097826  3886.233696  8362   795  4992.331522\n",
              "Winter   729.112360  3999.050562  8555    22  4728.162921"
            ]
          },
          "execution_count": 20,
          "metadata": {},
          "output_type": "execute_result"
        }
      ],
      "source": [
        "day_rent_df.groupby(by='season').agg({\n",
        "    'casual': 'mean',\n",
        "    'registered': 'mean',\n",
        "    'count': ['max', 'min', 'mean']\n",
        "})"
      ]
    },
    {
      "cell_type": "markdown",
      "metadata": {
        "id": "jAUKAskXTds2"
      },
      "source": [
        "Selanjutnyakita kelompokkan temp, hum, dan humidity berdasarkan season"
      ]
    },
    {
      "cell_type": "code",
      "execution_count": 21,
      "metadata": {
        "colab": {
          "base_uri": "https://localhost:8080/",
          "height": 238
        },
        "id": "pSn3r2vxW1bg",
        "outputId": "810612e4-2824-4e09-ec6b-a462084d8ce5"
      },
      "outputs": [
        {
          "name": "stderr",
          "output_type": "stream",
          "text": [
            "C:\\Users\\OKA\\AppData\\Local\\Temp\\ipykernel_3016\\2500072425.py:1: FutureWarning: The default of observed=False is deprecated and will be changed to True in a future version of pandas. Pass observed=False to retain current behavior or observed=True to adopt the future default and silence this warning.\n",
            "  day_rent_df.groupby(by='season').agg({\n"
          ]
        },
        {
          "data": {
            "text/html": [
              "<div>\n",
              "<style scoped>\n",
              "    .dataframe tbody tr th:only-of-type {\n",
              "        vertical-align: middle;\n",
              "    }\n",
              "\n",
              "    .dataframe tbody tr th {\n",
              "        vertical-align: top;\n",
              "    }\n",
              "\n",
              "    .dataframe thead tr th {\n",
              "        text-align: left;\n",
              "    }\n",
              "\n",
              "    .dataframe thead tr:last-of-type th {\n",
              "        text-align: right;\n",
              "    }\n",
              "</style>\n",
              "<table border=\"1\" class=\"dataframe\">\n",
              "  <thead>\n",
              "    <tr>\n",
              "      <th></th>\n",
              "      <th colspan=\"3\" halign=\"left\">temp</th>\n",
              "      <th colspan=\"3\" halign=\"left\">atemp</th>\n",
              "      <th colspan=\"3\" halign=\"left\">hum</th>\n",
              "    </tr>\n",
              "    <tr>\n",
              "      <th></th>\n",
              "      <th>max</th>\n",
              "      <th>min</th>\n",
              "      <th>mean</th>\n",
              "      <th>max</th>\n",
              "      <th>min</th>\n",
              "      <th>mean</th>\n",
              "      <th>max</th>\n",
              "      <th>min</th>\n",
              "      <th>mean</th>\n",
              "    </tr>\n",
              "    <tr>\n",
              "      <th>season</th>\n",
              "      <th></th>\n",
              "      <th></th>\n",
              "      <th></th>\n",
              "      <th></th>\n",
              "      <th></th>\n",
              "      <th></th>\n",
              "      <th></th>\n",
              "      <th></th>\n",
              "      <th></th>\n",
              "    </tr>\n",
              "  </thead>\n",
              "  <tbody>\n",
              "    <tr>\n",
              "      <th>Fall</th>\n",
              "      <td>0.861667</td>\n",
              "      <td>0.469167</td>\n",
              "      <td>0.706309</td>\n",
              "      <td>0.840896</td>\n",
              "      <td>0.242400</td>\n",
              "      <td>0.655898</td>\n",
              "      <td>0.939565</td>\n",
              "      <td>0.360000</td>\n",
              "      <td>0.633482</td>\n",
              "    </tr>\n",
              "    <tr>\n",
              "      <th>Spring</th>\n",
              "      <td>0.572500</td>\n",
              "      <td>0.059130</td>\n",
              "      <td>0.297748</td>\n",
              "      <td>0.548617</td>\n",
              "      <td>0.079070</td>\n",
              "      <td>0.296914</td>\n",
              "      <td>0.948261</td>\n",
              "      <td>0.000000</td>\n",
              "      <td>0.582903</td>\n",
              "    </tr>\n",
              "    <tr>\n",
              "      <th>Summer</th>\n",
              "      <td>0.808333</td>\n",
              "      <td>0.253043</td>\n",
              "      <td>0.544405</td>\n",
              "      <td>0.757579</td>\n",
              "      <td>0.250339</td>\n",
              "      <td>0.520307</td>\n",
              "      <td>0.922500</td>\n",
              "      <td>0.254167</td>\n",
              "      <td>0.626948</td>\n",
              "    </tr>\n",
              "    <tr>\n",
              "      <th>Winter</th>\n",
              "      <td>0.657500</td>\n",
              "      <td>0.220833</td>\n",
              "      <td>0.422906</td>\n",
              "      <td>0.607975</td>\n",
              "      <td>0.227913</td>\n",
              "      <td>0.415539</td>\n",
              "      <td>0.972500</td>\n",
              "      <td>0.333478</td>\n",
              "      <td>0.668719</td>\n",
              "    </tr>\n",
              "  </tbody>\n",
              "</table>\n",
              "</div>"
            ],
            "text/plain": [
              "            temp                         atemp                           hum  \\\n",
              "             max       min      mean       max       min      mean       max   \n",
              "season                                                                         \n",
              "Fall    0.861667  0.469167  0.706309  0.840896  0.242400  0.655898  0.939565   \n",
              "Spring  0.572500  0.059130  0.297748  0.548617  0.079070  0.296914  0.948261   \n",
              "Summer  0.808333  0.253043  0.544405  0.757579  0.250339  0.520307  0.922500   \n",
              "Winter  0.657500  0.220833  0.422906  0.607975  0.227913  0.415539  0.972500   \n",
              "\n",
              "                            \n",
              "             min      mean  \n",
              "season                      \n",
              "Fall    0.360000  0.633482  \n",
              "Spring  0.000000  0.582903  \n",
              "Summer  0.254167  0.626948  \n",
              "Winter  0.333478  0.668719  "
            ]
          },
          "execution_count": 21,
          "metadata": {},
          "output_type": "execute_result"
        }
      ],
      "source": [
        "day_rent_df.groupby(by='season').agg({\n",
        "    'temp': ['max', 'min', 'mean'],\n",
        "    'atemp': ['max', 'min', 'mean'],\n",
        "    'hum': ['max', 'min', 'mean']\n",
        "})"
      ]
    },
    {
      "cell_type": "markdown",
      "metadata": {
        "id": "SCNmtOLp9OKB"
      },
      "source": [
        "## **Visualization & Explanatory Analysis**"
      ]
    },
    {
      "cell_type": "markdown",
      "metadata": {
        "id": "SG59_Fbj9Qr6"
      },
      "source": [
        "### **Pertanyaan 1: Apakah ada hubungan antara cuaca terhadap jumlah pemakaian sepeda?**"
      ]
    },
    {
      "cell_type": "code",
      "execution_count": 22,
      "metadata": {
        "colab": {
          "base_uri": "https://localhost:8080/",
          "height": 564
        },
        "id": "dtRoaxqd9PdU",
        "outputId": "5a150bc7-d70e-4d26-b8c8-40674e8b99a4"
      },
      "outputs": [
        {
          "data": {
            "image/png": "[encoded data removed]",
            "text/plain": [
              "<Figure size 1000x600 with 1 Axes>"
            ]
          },
          "metadata": {},
          "output_type": "display_data"
        }
      ],
      "source": [
        "plt.figure(figsize=(10,6))\n",
        "sns.barplot(\n",
        "    x='weather_cond',\n",
        "    y='count',\n",
        "    data=day_rent_df)\n",
        "\n",
        "plt.title('Jumlah Pemakaian Sepeda berdasarkan Kondisi Cuaca')\n",
        "plt.xlabel('Kondisi Cuaca')\n",
        "plt.ylabel('Jumlah Pemakaian Sepeda')\n",
        "plt.show()"
      ]
    },
    {
      "cell_type": "markdown",
      "metadata": {
        "id": "9e72oZginRSN"
      },
      "source": [
        "Berdasarkan visualisasi data menggunakan boxplot, dapat disimpulkan bahwa jelas terdapat hubungan antara kondisi cuaca dan pemakaian sepeda, Kondisi cuaca saat sedang cerah/setengah mendung menjadi kondisi yang paling diminati, kemudian diikuti dengan cuaca berkabut/mendung, dan terakhir ketika cuaca sedang sedikit bersalju/hujan menjadi yang paling sedikit diminati."
      ]
    },
    {
      "cell_type": "markdown",
      "metadata": {
        "id": "HwLq3Uazr2Qx"
      },
      "source": [
        "### **Pertanyaan 2: Bagaimana tren penggunaan sepeda di tahun 2011 dan 2012?**"
      ]
    },
    {
      "cell_type": "code",
      "execution_count": 23,
      "metadata": {
        "colab": {
          "base_uri": "https://localhost:8080/",
          "height": 487
        },
        "id": "MxXENgFIsQAK",
        "outputId": "03f49ecd-0f14-4647-84ff-17e522023027"
      },
      "outputs": [
        {
          "name": "stderr",
          "output_type": "stream",
          "text": [
            "C:\\Users\\OKA\\AppData\\Local\\Temp\\ipykernel_3016\\1563552629.py:5: FutureWarning: The default of observed=False is deprecated and will be changed to True in a future version of pandas. Pass observed=False to retain current behavior or observed=True to adopt the future default and silence this warning.\n",
            "  monthly_counts = day_rent_df.groupby(by=[\"month\",\"year\"]).agg({\n"
          ]
        },
        {
          "data": {
            "image/png": "[encoded data removed]",
            "text/plain": [
              "<Figure size 640x480 with 1 Axes>"
            ]
          },
          "metadata": {},
          "output_type": "display_data"
        }
      ],
      "source": [
        "day_rent_df['month'] = pd.Categorical(day_rent_df['month'], categories=\n",
        "    ['Januari','Februari','Maret','April','Mei','Juni','Juli','Agustus','September','Oktober','November','Desember'],\n",
        "    ordered=True)\n",
        "\n",
        "monthly_counts = day_rent_df.groupby(by=[\"month\",\"year\"]).agg({\n",
        "    \"count\": \"sum\"\n",
        "}).reset_index()\n",
        "\n",
        "sns.lineplot(\n",
        "    data=monthly_counts,\n",
        "    x=\"month\",\n",
        "    y=\"count\",\n",
        "    hue=\"year\",\n",
        "    palette=\"rocket\",\n",
        "    marker=\"o\")\n",
        "\n",
        "plt.title(\"Jumlah total sepeda yang disewakan berdasarkan Bulan dan tahun\")\n",
        "plt.xlabel(None)\n",
        "plt.ylabel(None)\n",
        "plt.legend(title=\"Tahun\", loc=\"upper right\")\n",
        "plt.tight_layout()\n",
        "plt.show()"
      ]
    },
    {
      "cell_type": "markdown",
      "metadata": {
        "id": "RqPCsCmQBg4G"
      },
      "source": [
        "Berdasarkan visualisasi diatas menggunakan lineplot, dapat disimpulkan bahwa tahun 2012 (yang diwakili oleh angka 1) jelas menang unggul baik dari januari sampai desember. Puncak penyewaan sepeda pada tahun 2012 terjadi pada bulan September, sementara bulan yang paling sepi terjadi pada bulan januari. Sedangkan pada tahun 2011 puncak penyewaan sepeda terjadi pada bulan Juni dan memiliki penyewaan tersepi pada bulan Januari."
      ]
    },
    {
      "cell_type": "markdown",
      "metadata": {
        "id": "QvSvgj6SCfS-"
      },
      "source": [
        "### **Pertanyaan 3: Apakah ada pengaruh musim terhadap pemakaian sepeda berdasarkan pelanggan Casual dan Registered?**"
      ]
    },
    {
      "cell_type": "code",
      "execution_count": 25,
      "metadata": {
        "colab": {
          "base_uri": "https://localhost:8080/",
          "height": 545
        },
        "id": "IHOYVJZqC052",
        "outputId": "1d84870a-9f82-41c5-de0e-46b68f0d3dad"
      },
      "outputs": [
        {
          "name": "stderr",
          "output_type": "stream",
          "text": [
            "C:\\Users\\OKA\\AppData\\Local\\Temp\\ipykernel_3016\\1880620719.py:2: FutureWarning: The default of observed=False is deprecated and will be changed to True in a future version of pandas. Pass observed=False to retain current behavior or observed=True to adopt the future default and silence this warning.\n",
            "  seasonal_usage = day_rent_df.groupby('season')[['registered', 'casual']].sum().reset_index()\n"
          ]
        },
        {
          "data": {
            "image/png": "[encoded data removed]",
            "text/plain": [
              "<Figure size 1000x600 with 1 Axes>"
            ]
          },
          "metadata": {},
          "output_type": "display_data"
        }
      ],
      "source": [
        "# Mengelompokkan data berdasarkan musim dan menghitung jumlah penggunaan terdaftar dan tidak terdaftar\n",
        "seasonal_usage = day_rent_df.groupby('season')[['registered', 'casual']].sum().reset_index()\n",
        "\n",
        "plt.figure(figsize=(10, 6))\n",
        "\n",
        "# Membuat\n",
        "plt.bar(\n",
        "    seasonal_usage['season'],\n",
        "    seasonal_usage['registered'],\n",
        "    label='Registered',\n",
        "    color='tab:blue'\n",
        ")\n",
        "\n",
        "plt.bar(\n",
        "    seasonal_usage['season'],\n",
        "    seasonal_usage['casual'],\n",
        "    label='Casual',\n",
        "    color='tab:orange'\n",
        ")\n",
        "\n",
        "plt.xlabel(None)\n",
        "plt.ylabel(None)\n",
        "plt.title('Jumlah pemakaian sepeda berdasarkan musim')\n",
        "plt.legend()\n",
        "plt.show()"
      ]
    },
    {
      "cell_type": "markdown",
      "metadata": {
        "id": "AFRrJzk6tfHN"
      },
      "source": [
        "Berdasarkan hasil analisis diatas menggunakan barplot, dapat disimpulkan bahwa di semua musim yang paling dinikmati bagi para pengguna sepeda (Casual dan Registered) adalah musim gugur (Fall), lalu diikuti dengan musim panas (Summer), musim dingin (Winter), dan diakhiri dengan musim semi (Spring)."
      ]
    },
    {
      "cell_type": "markdown",
      "metadata": {
        "id": "J2CnXYGT9Tc2"
      },
      "source": [
        "\n",
        "## **Conclusion**"
      ]
    },
    {
      "cell_type": "markdown",
      "metadata": {
        "id": "f73FBkLw9V8C"
      },
      "source": [
        "- Conclusion pertanyaan 1:\n",
        "Dapat terlihat jelas terdapat hubungan diantara keduanya. Para penyewa sepeda sangat menyukai ketika cuaca sedang Cerah/Sedikit mendung. Lalu posisi kedua ditempati ketika cuaca sedang Berkabut/Mendung. Terakhir pengguna kurang menyukai ketika suasana sedang Sedikit bersalju/Hujan.\n",
        "\n",
        "\n",
        "- Conclusion pertanyaan 2:\n",
        "Dapat terlihat jelas pada visualisasi yang dipaparkan, dapat kita amati tren yang terjadi di tahun 2011 dan 2012. Puncak dari tahun 2011 terdapat pada bulan Juni dan yang paling rendah di bulan Januari. sedangkan untuk di tahun 2012 puncaknya terdapat di bulan september dan paling rendah terdapat pada bulan yang sama yakni Januari. Serta dari visualisasi tersebut kita dapat simpulkan bahwa jumlah pemakaian sepeda di tahun 2012 keseluruhannya lebih tinggi dibandingkan di tahun 2011.\n",
        "\n",
        "\n",
        "- Conclusion pertanyaan 3:\n",
        "Disini terdapat kesimpulan yang mengejutkan, dimana di musim dingin (winter) ternyata tidak menjadi yang paling rendah, melainkan yang paling rendah adalah musim semi (spring). Sedangkan yang paling tinggi adalah pada saat musm gugur (fall)."
      ]
    }
  ],
  "metadata": {
    "colab": {
      "provenance": []
    },
    "kernelspec": {
      "display_name": "Python 3",
      "name": "python3"
    },
    "language_info": {
      "codemirror_mode": {
        "name": "ipython",
        "version": 3
      },
      "file_extension": ".py",
      "mimetype": "text/x-python",
      "name": "python",
      "nbconvert_exporter": "python",
      "pygments_lexer": "ipython3",
      "version": "3.12.2"
    }
  },
  "nbformat": 4,
  "nbformat_minor": 0
}
